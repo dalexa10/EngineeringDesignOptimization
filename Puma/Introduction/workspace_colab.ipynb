{
  "nbformat": 4,
  "nbformat_minor": 0,
  "metadata": {
    "colab": {
      "name": "workspace_colab.ipynb",
      "provenance": [],
      "authorship_tag": "ABX9TyMp02TJtsaPenBZgDJCo2gv",
      "include_colab_link": true
    },
    "kernelspec": {
      "name": "python3",
      "display_name": "Python 3"
    },
    "language_info": {
      "name": "python"
    }
  },
  "cells": [
    {
      "cell_type": "markdown",
      "metadata": {
        "id": "view-in-github",
        "colab_type": "text"
      },
      "source": [
        "<a href=\"https://colab.research.google.com/github/dalexa10/EngineeringDesignOptimization/blob/main/Puma/Introduction/workspace_colab.ipynb\" target=\"_parent\"><img src=\"https://colab.research.google.com/assets/colab-badge.svg\" alt=\"Open In Colab\"/></a>"
      ]
    },
    {
      "cell_type": "markdown",
      "metadata": {
        "id": "wgdMb27EzOzf"
      },
      "source": [
        "# **Installation setup and imports**"
      ]
    },
    {
      "cell_type": "markdown",
      "metadata": {
        "id": "XJNFgqarzkUS"
      },
      "source": [
        "This is a test of running PuMA software in Google Colab. The primary purpose is to see how stable and fast it is, instead of running it locally on Ubuntu\n",
        "Let's set up our notebook first. Let's set up our environment first"
      ]
    },
    {
      "cell_type": "code",
      "metadata": {
        "id": "eAS2Cwy00AkS"
      },
      "source": [
        "if 'google.colab' in str(get_ipython()):\n",
        "  !pip install 'git+https://github.com/nasa/puma'\n",
        "  !pip install -q piglet pyvirtualdisplay\n",
        "  !apt-get -qq install xvfb"
      ],
      "execution_count": null,
      "outputs": []
    },
    {
      "cell_type": "markdown",
      "metadata": {
        "id": "OmqSeazF3Nav"
      },
      "source": [
        "There you go, your environment is set up. If you need to either run C++ PuMA code or Waver TexGen, run these cells. Not necessary for now"
      ]
    },
    {
      "cell_type": "code",
      "metadata": {
        "id": "Beh_TNnX451j"
      },
      "source": [
        "import os\n",
        "if 'google.colab' in str(get_ipython()):\n",
        "    !pip install -q condacolab\n",
        "    import condacolab\n",
        "    condacolab.install()\n",
        "    !pip install -q piglet pyvirtualdisplay\n",
        "    !apt-get -qq install xvfb\n",
        "    !if [[ $(conda list puma) != *\"puma\"* ]]; then conda install -c conda-forge puma; fi\n",
        "    os.environ['CONDA_PREFIX'] = \"/usr/local/\"  # necessary for C++ CMakeLists\n",
        "    try:\n",
        "        import pumapy as puma\n",
        "    except:  # Colab needs to restart kernel the first time puma is installed\n",
        "        import os; os.kill(os.getpid(), 9)  # intentionally crash kernel to force restart"
      ],
      "execution_count": null,
      "outputs": []
    },
    {
      "cell_type": "markdown",
      "metadata": {
        "id": "fwtBRzWZ5EIb"
      },
      "source": [
        "# Several Tests and Quick Tutorials"
      ]
    },
    {
      "cell_type": "markdown",
      "metadata": {
        "id": "25x3g2zE5NZa"
      },
      "source": [
        "Importing necessary packages "
      ]
    },
    {
      "cell_type": "code",
      "metadata": {
        "colab": {
          "base_uri": "https://localhost:8080/"
        },
        "id": "Af3NJO9o5SSb",
        "outputId": "0a7a1c25-0391-4d78-ae42-ac4dbd3e4330"
      },
      "source": [
        "import numpy as np\n",
        "import pumapy as puma\n",
        "import pyvista as pv\n",
        "import scipy.ndimage as nd\n",
        "import os\n",
        "import sys\n",
        "if 'google.colab' in str(get_ipython()):\n",
        "    from pyvirtualdisplay import Display\n",
        "    display = Display(visible=0, size=(600, 400))\n",
        "    display.start()  # necessary for pyvista interactive plots\n",
        "    \n",
        "else:  # NORMAL JUPYTER NOTEBOOK\n",
        "    # for interactive slicer (only static allowed on Colab)\n",
        "    %matplotlib widget"
      ],
      "execution_count": 4,
      "outputs": [
        {
          "output_type": "stream",
          "name": "stdout",
          "text": [
            "\u001b[93mWARNING: 'import TexGen.Core' failed: cannot use TexGen functions and pumapy.export_weave_vtu.\u001b[0m\n"
          ]
        }
      ]
    }
  ]
}